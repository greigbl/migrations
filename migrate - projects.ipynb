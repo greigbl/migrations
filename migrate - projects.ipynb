{
 "cells": [
  {
   "cell_type": "code",
   "execution_count": null,
   "id": "8e09d567-e712-4fe1-b73b-0cc676f7c774",
   "metadata": {},
   "outputs": [],
   "source": [
    "from helper import export_projects, dataset_metadata, _export, download_datasets, upload_dataset, _export, _convert_dictkeys_to_snake\n",
    "import datarobot as dr\n",
    "import shutil\n",
    "import pandas as pd\n",
    "import os\n",
    "import json\n",
    "#Note1"
   ]
  },
  {
   "cell_type": "code",
   "execution_count": null,
   "id": "de0213c9-01a5-455a-b41e-772643f173f0",
   "metadata": {},
   "outputs": [],
   "source": [
    "#Need to manually create this; because our codespace will NOT create an empty directory during init.\n",
    "#Try to create a one-word .gitkeep and see if we can create this dir for them.\n",
    "DIR = \"migrations\"\n",
    "client = dr.Client()\n",
    "me = client.get(\"account/info/\").json()\n",
    "\n"
   ]
  },
  {
   "attachments": {},
   "cell_type": "markdown",
   "id": "f86a3944-26ec-4eed-a77f-d89a0e80225f",
   "metadata": {
    "collapsed": false,
    "datarobot": {
     "chart_settings": null,
     "custom_llm_metric_settings": null,
     "custom_metric_settings": null,
     "dataframe_view_options": null,
     "disable_run": false,
     "execution_time_millis": null,
     "hide_code": false,
     "hide_results": false,
     "language": "markdown"
    },
    "jupyter": {
     "outputs_hidden": false,
     "source_hidden": false
    },
    "scrolled": false
   },
   "source": [
    "## 1. 既存環境のプロジェクト・データセットをエキスポート"
   ]
  },
  {
   "cell_type": "code",
   "execution_count": null,
   "id": "e04dff01-b7bf-4ad2-939e-478a96a37002",
   "metadata": {},
   "outputs": [],
   "source": [
    "#MissingSchemaエラーがあったら環境変数が未設定の可能性大\n",
    "original_projects = export_projects()\n",
    "original_catalog_metadata = dataset_metadata(original_projects)"
   ]
  },
  {
   "cell_type": "code",
   "execution_count": null,
   "id": "4d6839ab-0d53-4c7b-a8f5-04cdd7cf8386",
   "metadata": {},
   "outputs": [],
   "source": [
    "print(\"合計プロジェクト：\", len(original_projects))\n",
    "print(\"カタログIDのあるプロジェクト：\", len([p for p in original_projects if p[\"catalogId\"] is not None]))\n",
    "print(\"-----------------------\")\n",
    "\n",
    "pd.DataFrame.from_records(original_projects)[[\"projectName\",\"id\",\"target\",\"created\"]]\n"
   ]
  },
  {
   "attachments": {},
   "cell_type": "markdown",
   "id": "3faa3653-65a1-4566-8417-11b8a42cab89",
   "metadata": {
    "collapsed": false,
    "datarobot": {
     "chart_settings": null,
     "custom_llm_metric_settings": null,
     "custom_metric_settings": null,
     "dataframe_view_options": null,
     "disable_run": false,
     "execution_time_millis": null,
     "hide_code": false,
     "hide_results": false,
     "language": "markdown"
    },
    "jupyter": {
     "outputs_hidden": false,
     "source_hidden": false
    },
    "scrolled": false
   },
   "source": [
    "## 2. 含みたいプロジェクトIDを以下のリストにて定義する"
   ]
  },
  {
   "cell_type": "code",
   "execution_count": null,
   "id": "ad50c52a-aeb9-4b6e-9ddc-a81e7fe7d20e",
   "metadata": {},
   "outputs": [],
   "source": [
    "# list_of_project_ids = [\"66ac7fd29d62d870a9785e70\",\"66ac813ddfabd5b3c254f0c7\",\"66ab2bbb9b4a61619f66e5d2\", \"6699c1882f700a81438cae3f\", \"66a331cd6796f9292f7859aa\",\"6699c1152f700a81438cadf2\"]\n",
    "list_of_project_ids = [\"66ac7fd29d62d870a9785e70\"]\n",
    "proj_df = pd.DataFrame(original_projects)\n",
    "filtered_df = proj_df.query(\"id in @list_of_project_ids\")"
   ]
  },
  {
   "cell_type": "code",
   "execution_count": null,
   "id": "c8ba1bd0-7d02-4436-a498-8af84e497100",
   "metadata": {},
   "outputs": [],
   "source": [
    "##移行対象アイテムのメタデータをファイルに書き出して保存場合\n",
    "\n",
    "# with open(f\"{DIR}/original-projects.json\", \"w\") as f:\n",
    "#     json.dump(original_projects, f, ensure_ascii=False, indent=4)\n",
    "# original_catalog_metadata.to_csv(f\"{DIR}/original-datasets.csv\", index=False)"
   ]
  },
  {
   "attachments": {},
   "cell_type": "markdown",
   "id": "e45a6f79-8b30-4306-8fb6-18af752878de",
   "metadata": {
    "collapsed": false,
    "datarobot": {
     "chart_settings": null,
     "custom_llm_metric_settings": null,
     "custom_metric_settings": null,
     "dataframe_view_options": null,
     "disable_run": false,
     "execution_time_millis": null,
     "hide_code": false,
     "hide_results": false,
     "language": "markdown"
    },
    "jupyter": {
     "outputs_hidden": false,
     "source_hidden": false
    },
    "scrolled": false
   },
   "source": [
    "## 3. 次のバッチにフィルターして、Codespaceの空き容量を確認"
   ]
  },
  {
   "cell_type": "code",
   "execution_count": null,
   "id": "5ec35fb7-cc44-42bb-a39c-ffe46d595eea",
   "metadata": {},
   "outputs": [],
   "source": [
    "target_datasets = filtered_df.fileName.unique()\n",
    "original_catalog_metadata.query(\"name in @target_datasets\")"
   ]
  },
  {
   "cell_type": "code",
   "execution_count": null,
   "id": "17f76536-abef-46d5-9103-64b314153e2d",
   "metadata": {},
   "outputs": [],
   "source": [
    "#ストレージの空き容量は20GBあるため、１バッチあたり20GB以下にする必要ある\n",
    "\n",
    "next_batch_df = original_catalog_metadata.query(\"name in @target_datasets\")\n",
    "print(next_batch_df[\"name\"].values)\n",
    "print(next_batch_df[\"datasetSize(MB)\"].sum())"
   ]
  },
  {
   "attachments": {},
   "cell_type": "markdown",
   "id": "5639e2e2-338f-4f8c-8b7a-4919ecafdac5",
   "metadata": {
    "collapsed": false,
    "datarobot": {
     "chart_settings": null,
     "custom_llm_metric_settings": null,
     "custom_metric_settings": null,
     "dataframe_view_options": null,
     "disable_run": false,
     "execution_time_millis": null,
     "hide_code": false,
     "hide_results": false,
     "language": "markdown"
    },
    "jupyter": {
     "outputs_hidden": false,
     "source_hidden": false
    },
    "scrolled": false
   },
   "source": [
    "#### ストレージが次回ダウンロード分に対して十分な空き容量かの確認"
   ]
  },
  {
   "cell_type": "code",
   "execution_count": null,
   "id": "57cfc409-0500-4c2e-a619-baee40a824a0",
   "metadata": {},
   "outputs": [],
   "source": [
    "from IPython.core.display import HTML\n",
    "\n",
    "raw = shutil.disk_usage(\".\")\n",
    "free_mb = int(raw.free / (1_000_000))\n",
    "print(\"空き容量: \", free_mb , \"MB\")\n",
    "\n",
    "storage_ok = '<span style=\"color:green; font-weight:800\">True</span>' if next_batch_df[\"datasetSize(MB)\"].sum() < free_mb else '<span style=\"color:#f54c68; fontweight:800\">False</span>'\n",
    "\n",
    "print(\"次回移行分に必要な空き容量確保できる：：\") \n",
    "HTML(storage_ok)\n"
   ]
  },
  {
   "cell_type": "code",
   "execution_count": null,
   "id": "992f6759-a2fe-46a8-9601-ff751be0bf3a",
   "metadata": {},
   "outputs": [],
   "source": [
    "downloaded_datasets = download_datasets(next_batch_df, DIR, 4)\n",
    "#downloaded_datasets"
   ]
  },
  {
   "attachments": {},
   "cell_type": "markdown",
   "id": "5639fc51-0288-4217-b248-e4c148e9e3de",
   "metadata": {
    "collapsed": false,
    "datarobot": {
     "chart_settings": null,
     "custom_llm_metric_settings": null,
     "custom_metric_settings": null,
     "dataframe_view_options": null,
     "disable_run": false,
     "execution_time_millis": null,
     "hide_code": false,
     "hide_results": false,
     "language": "markdown"
    },
    "jupyter": {
     "outputs_hidden": false,
     "source_hidden": false
    },
    "scrolled": false
   },
   "source": [
    "## 5. Codespaceのストレージにダウンロードしたデータセットを新規環境にアップロード"
   ]
  },
  {
   "cell_type": "code",
   "execution_count": null,
   "id": "5e672778-7448-4657-94a7-d7bcc105feff",
   "metadata": {},
   "outputs": [],
   "source": [
    "new_datasets = []\n",
    "for cat in downloaded_datasets:\n",
    "    record = {\"name\": cat[\"name\"]}\n",
    "    if cat[\"complete\"]:\n",
    "        resp = upload_dataset(cat, DIR=DIR)\n",
    "        if \"catalogId\" in resp:\n",
    "            record = record | resp\n",
    "        new_datasets.append(record)"
   ]
  },
  {
   "cell_type": "code",
   "execution_count": null,
   "id": "a2aec68a-4427-4e08-903f-2462ae382129",
   "metadata": {},
   "outputs": [],
   "source": [
    "new_datasets"
   ]
  },
  {
   "attachments": {},
   "cell_type": "markdown",
   "id": "21d0fead-7a57-405d-af71-258f2d625417",
   "metadata": {
    "collapsed": false,
    "datarobot": {
     "chart_settings": null,
     "custom_llm_metric_settings": null,
     "custom_metric_settings": null,
     "dataframe_view_options": null,
     "disable_run": false,
     "execution_time_millis": null,
     "hide_code": false,
     "hide_results": false,
     "language": "markdown"
    },
    "jupyter": {
     "outputs_hidden": false,
     "source_hidden": false
    },
    "scrolled": false
   },
   "source": [
    "## 6. 新しくアップロードしたデータセットのCatalogIDをプロジェクトデータに反映"
   ]
  },
  {
   "cell_type": "code",
   "execution_count": null,
   "id": "72558889-9f30-4634-b9cb-5d13e2d516f4",
   "metadata": {},
   "outputs": [],
   "source": [
    "next_batch_projects = []\n",
    "next_batch_datasets = list(next_batch_df.name)\n",
    "target_projects = [p for p in original_projects if p[\"fileName\"] in next_batch_datasets]\n",
    "\n",
    "for idx, p in enumerate(target_projects):\n",
    "    if p[\"stage\"] != \"modeling\":\n",
    "        continue\n",
    "    matched_file = [ds for ds in new_datasets if ds[\"name\"] == p[\"fileName\"]]\n",
    "    if len(matched_file) == 1:\n",
    "        new_record = target_projects[idx].copy()\n",
    "        new_record[\"catalogId\"] = matched_file[0][\"catalogId\"]\n",
    "        next_batch_projects.append(new_record)\n",
    "print(\"次回処理予定のプロジェクト数: \", len(next_batch_projects))"
   ]
  },
  {
   "attachments": {},
   "cell_type": "markdown",
   "id": "224b2ba0-1b4b-425a-9b97-6f94aa30ec39",
   "metadata": {
    "collapsed": false,
    "datarobot": {
     "chart_settings": null,
     "custom_llm_metric_settings": null,
     "custom_metric_settings": null,
     "dataframe_view_options": null,
     "disable_run": false,
     "execution_time_millis": null,
     "hide_code": false,
     "hide_results": false,
     "language": "markdown"
    },
    "jupyter": {
     "outputs_hidden": false,
     "source_hidden": false
    },
    "scrolled": false
   },
   "source": [
    "#### Autopilot実行前にダウンロード\n",
    "#### 完了するまで繰り返してprocessingStateを確認\n"
   ]
  },
  {
   "cell_type": "code",
   "execution_count": null,
   "id": "23f9891c-28dd-459e-8185-27ed7d0e65b4",
   "metadata": {},
   "outputs": [],
   "source": [
    "#新規環境に登録したデータセットのメタデータを取得\n",
    "new_catalog = dataset_metadata(next_batch_projects,env=\"TARGET\")\n",
    "#データセット登録完了しているかを確認\n",
    "new_catalog[[\"name\",\"processingState\"]]"
   ]
  },
  {
   "attachments": {},
   "cell_type": "markdown",
   "id": "9ee8b175-2e9a-471f-9a1d-e7fe827a4fae",
   "metadata": {
    "collapsed": false,
    "datarobot": {
     "chart_settings": null,
     "custom_llm_metric_settings": null,
     "custom_metric_settings": null,
     "dataframe_view_options": null,
     "disable_run": false,
     "execution_time_millis": null,
     "hide_code": false,
     "hide_results": false,
     "language": "markdown"
    },
    "jupyter": {
     "outputs_hidden": false,
     "source_hidden": false
    },
    "scrolled": false
   },
   "source": [
    "## 7. Project / Autopilot 実行開始"
   ]
  },
  {
   "cell_type": "code",
   "execution_count": null,
   "id": "1d6f5a96-ccfb-4646-a11a-17dd36c0f41e",
   "metadata": {},
   "outputs": [],
   "source": [
    "## RemoteDisconnectedやConnectionErrorが発生する場合がある。その場合再度実行して、正常に処理が始まります。\n",
    "\n",
    "adv_option_filter = [\"downsampledMinorityRows\", \"downsampledMajorityRows\",\"responseCap\"]\n",
    "TARGET_WORKERS = 8\n",
    "\n",
    "print(\"こちらにてプロジェクトの進捗をご確認ください。\")\n",
    "print(f'{os.environ.get(\"DATAROBOT_ENDPOINT\")[:-7]}/manage-projects')\n",
    "for proj in next_batch_projects:\n",
    "    print(\"プロジェクト開始： \", proj[\"projectName\"])\n",
    "    dr.Context.use_case = None\n",
    "    new_proj = dr.Project.create_from_dataset(\n",
    "        dataset_id=proj[\"catalogId\"],\n",
    "        project_name=proj[\"projectName\"],\n",
    "        )\n",
    "    \n",
    "    if \"datetimePartitionColumn\" in proj[\"partition\"]:\n",
    "        partitioning_method = dr.DatetimePartitioningSpecification(\n",
    "            datetime_partition_column=proj[\"partition\"][\"datetimePartitionColumn\"],\n",
    "        )\n",
    "    elif proj[\"partition\"][\"cvMethod\"] == \"group\":\n",
    "        partitioning_method = dr.GroupCV(\n",
    "            reps=proj[\"partition\"][\"reps\"],\n",
    "            holdout_pct=proj[\"paritition\"][\"holdoutPct\"],\n",
    "            partition_key_cols=proj[\"partition\"][\"partitionKeyCols\"]\n",
    "        )\n",
    "    else:\n",
    "        #特別な要件がある場合は調べておいてね！\n",
    "        partitioning_method = None\n",
    "\n",
    "        \n",
    "    #TypeError: AdvancedOptions.__init__()のエラーがスローされたら該当属性をadv_option_filterに追加する\n",
    "    adv_options = {k:v for (k,v) in proj[\"advancedOptions\"].items() if k not in adv_option_filter}\n",
    "    adv_options = _convert_dictkeys_to_snake(adv_options)\n",
    "    if \"primaryLocationColumn\" in proj:\n",
    "        adv_options[\"primary_location_column\"] = proj[\"primaryLocationColumn\"]\n",
    "    advanced_options = dr.AdvancedOptions(**adv_options)\n",
    "    \n",
    "    try:\n",
    "        new_proj = new_proj.analyze_and_model(\n",
    "                    target=  proj[\"target\"],\n",
    "                    mode=    proj[\"autopilotMode\"],\n",
    "                    target_type=  proj[\"targetType\"],\n",
    "                    unsupervised_mode= proj[\"unsupervisedMode\"],\n",
    "                    unsupervised_type= proj[\"unsupervisedType\"],\n",
    "                    metric = proj[\"metric\"],\n",
    "                    positive_class = proj[\"positiveClass\"],\n",
    "                    advanced_options=advanced_options,                    \t\n",
    "            \t    worker_count=TARGET_WORKERS,\n",
    "                    partitioning_method=partitioning_method,\n",
    "        )\n",
    "    except dr.errors.ClientError as e:\n",
    "        print(\"エラー発生：, \", e)"
   ]
  },
  {
   "attachments": {},
   "cell_type": "markdown",
   "id": "616114d9-fea6-498d-a107-685e08a559e4",
   "metadata": {
    "collapsed": false,
    "datarobot": {
     "chart_settings": null,
     "custom_llm_metric_settings": null,
     "custom_metric_settings": null,
     "dataframe_view_options": null,
     "disable_run": false,
     "execution_time_millis": 3,
     "hide_code": false,
     "hide_results": false,
     "language": "markdown"
    },
    "jupyter": {
     "outputs_hidden": false,
     "source_hidden": false
    },
    "scrolled": false
   },
   "source": [
    "### 次回のバッチがある場合は移行済ファイルをStorageから削除した上\n",
    "\n",
    "### ステップ2に戻り、次のバッチ範囲を決めて実行してください"
   ]
  },
  {
   "cell_type": "code",
   "execution_count": null,
   "id": "844dc657-afb1-470d-93ee-4e9972262d8f",
   "metadata": {},
   "outputs": [],
   "source": [
    "for file in next_batch_datasets:\n",
    "    os.remove(f\"{DIR}/{file}\")\n"
   ]
  },
  {
   "cell_type": "code",
   "execution_count": null,
   "id": "c5c1066a-1e12-4190-9c39-5e0e7010c312",
   "metadata": {},
   "outputs": [],
   "source": [
    "exported_projects = export_projects(env=\"TARGET\")"
   ]
  },
  {
   "cell_type": "code",
   "execution_count": null,
   "id": "98e8f819-db51-4a9d-bbee-2d723f44cada",
   "metadata": {},
   "outputs": [],
   "source": [
    "#compare_projects = [\"66ac844694d3910805cc1e5b\",\"66ac8480347f45d126f97188\"]\n",
    "for p in exported_projects:\n",
    " #   if p[\"id\"] in compare_projects:\n",
    "        print(json.dumps(p, ensure_ascii=False))"
   ]
  },
  {
   "cell_type": "code",
   "execution_count": null,
   "id": "58418a1e-438a-4b00-a847-9d835d979ceb",
   "metadata": {},
   "outputs": [],
   "source": []
  }
 ],
 "metadata": {
  "language_info": {
   "name": "python"
  }
 },
 "nbformat": 4,
 "nbformat_minor": 5
}
